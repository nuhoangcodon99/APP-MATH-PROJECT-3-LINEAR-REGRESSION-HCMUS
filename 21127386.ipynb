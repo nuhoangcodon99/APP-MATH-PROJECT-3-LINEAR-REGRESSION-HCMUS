{
 "cells": [
  {
   "cell_type": "markdown",
   "metadata": {},
   "source": [
    "# <center>Đồ án 3: Linear Regression</center>"
   ]
  },
  {
   "cell_type": "markdown",
   "metadata": {},
   "source": [
    "# Thông tin sinh viên\n",
    "\n",
    "- Họ và tên: Nguyễn Thị Cẩm Nhung\n",
    "- MSSV: 21127386\n",
    "- Lớp: 21CLC08"
   ]
  },
  {
   "cell_type": "markdown",
   "metadata": {},
   "source": [
    "# Import"
   ]
  },
  {
   "cell_type": "code",
   "execution_count": 2998,
   "metadata": {},
   "outputs": [],
   "source": [
    "import pandas as pd\n",
    "import numpy as np\n",
    "from sklearn.metrics import mean_absolute_error\n",
    "from sklearn.model_selection import KFold\n",
    "from sklearn.linear_model import LinearRegression\n",
    "\n",
    "# Import thêm dữ thư viện nếu cần"
   ]
  },
  {
   "cell_type": "markdown",
   "metadata": {},
   "source": [
    "# Đọc dữ liệu"
   ]
  },
  {
   "cell_type": "code",
   "execution_count": 2999,
   "metadata": {},
   "outputs": [],
   "source": [
    "# Đọc dữ liệu bằng pandas\n",
    "train = pd.read_csv('train.csv')\n",
    "test = pd.read_csv('test.csv')\n",
    "\n",
    "# Lấy các đặc trưng X và giá trị mục tiêu y cho các tập huấn luyện (train) và kiểm tra (test)\n",
    "X_train = train.iloc[:, :-1]    # Dataframe (chứa các đặc trưng huấn luyện)\n",
    "y_train = train.iloc[:, -1]     # Series    (chứa 1 giá trị mục tiêu kiểm tra)\n",
    "\n",
    "X_test = test.iloc[:, :-1]      # Dataframe (chứa các đặc trưng kiểm tra)\n",
    "y_test = test.iloc[:, -1]       # Series    (chứa 1 giá trị mục tiêu kiểm tra)\n",
    "\n",
    "# Sinh viên có thể sử dụng các khác nếu cần"
   ]
  },
  {
   "cell_type": "markdown",
   "metadata": {},
   "source": [
    "# Cài đặt hàm"
   ]
  },
  {
   "cell_type": "code",
   "execution_count": 3000,
   "metadata": {},
   "outputs": [],
   "source": [
    "# Cài đặt các hàm cần thiết ở đây"
   ]
  },
  {
   "cell_type": "markdown",
   "metadata": {},
   "source": [
    "# Yêu cầu 1a: Sử dụng toàn bộ 11 đặc trưng đầu tiên `Gender`, `10percentage`, `12percentage`, `CollegeTier`, `Degree`, `collegeGPA`, `CollegeCityTier`, `English`, `Logical`, `Quant`, `Domain` (2 điểm) "
   ]
  },
  {
   "cell_type": "code",
   "execution_count": 3001,
   "metadata": {},
   "outputs": [
    {
     "name": "stdout",
     "output_type": "stream",
     "text": [
      "['-23183.330', '702.767', '1259.019', '-99570.608', '18369.962', '1297.532', '-8836.727', '141.760', '145.742', '114.643', '34955.750'] 49248.090\n"
     ]
    }
   ],
   "source": [
    "# Phần code cho yêu cầu 1a\n",
    "X_train1a = X_train.iloc[:, 0:11]\n",
    "\n",
    "model1a = LinearRegression()\n",
    "model1a.fit(X_train1a, y_train)\n",
    "\n",
    "X_test1a = X_test.iloc[:, 0:11]\n",
    "y_predict1a = model1a.predict(X_test1a)\n",
    "print([f'{coef:.3f}' for coef in model1a.coef_], f'{model1a.intercept_:.3f}')"
   ]
  },
  {
   "cell_type": "code",
   "execution_count": 3002,
   "metadata": {},
   "outputs": [
    {
     "name": "stdout",
     "output_type": "stream",
     "text": [
      "105052.530\n"
     ]
    }
   ],
   "source": [
    "# Gọi hàm MAE (tự cài đặt hoặc từ thư viện) trên tập kiểm tra\n",
    "mae_1a = mean_absolute_error(y_test, y_predict1a)\n",
    "print(f'{mae_1a:.3f}')"
   ]
  },
  {
   "cell_type": "markdown",
   "metadata": {},
   "source": [
    "Công thức hồi quy (phần trọng số làm tròn đến 3 chữ số thập phân, ví dụ 0.012345 $\\to$ 0.012)\n",
    "\n",
    "$$\\text{Salary} = -23183.330*Gender+ 702.767*10percentage+1259.019*12percentage -99570.608* CollegeTier+ 18369.962*Degree+ 1297.532*collegeGPA-8836.727* CollegeCityTier+ 141.760*English+ 145.742*Logical+ 114.643*Quant+ 34955.750*Domain+ 49248.090$$"
   ]
  },
  {
   "cell_type": "markdown",
   "metadata": {},
   "source": [
    "# Yêu cầu 1b: Xây dựng mô hình sử dụng duy nhất 1 đặc trưng tính cách với các đặc trưng tính cách gồm `conscientiousness`, `agreeableness`, `extraversion`, `nueroticism`, `openess_to_experience`, tìm mô hình cho kết quả tốt nhất (1 điểm)"
   ]
  },
  {
   "cell_type": "markdown",
   "metadata": {},
   "source": [
    "Lưu ý: khi sử dụng cross-validation, sinh viên cần xáo trộn dữ liệu 1 lần duy nhất và thực hiện trên toàn bộ đặc trưng"
   ]
  },
  {
   "cell_type": "code",
   "execution_count": 3003,
   "metadata": {},
   "outputs": [
    {
     "name": "stdout",
     "output_type": "stream",
     "text": [
      "\n",
      "Best feature: nueroticism\n",
      "Mean MAE for best feature: 123421.09291837722\n",
      "Results:\n",
      "| STT | Mô hình với 1 đặc trưng | MAE  |\n",
      "|:---:|:-----------------------:|:----:|\n",
      "|  1  | conscientiousness        | 124153.947  |\n",
      "|  2  | agreeableness            | 123680.814  |\n",
      "|  3  | extraversion             | 123780.149  |\n",
      "|  4  | nueroticism              | 123421.093  |\n",
      "|  5  | openess_to_experience    | 123813.700  |\n"
     ]
    }
   ],
   "source": [
    "# Phần code cho yêu cầu 1b\n",
    "random_indices = np.arange(len(X_train))\n",
    "np.random.shuffle(random_indices)\n",
    "\n",
    "X_shuffle = X_train.iloc[random_indices]\n",
    "y_shuffle = y_train.iloc[random_indices]\n",
    "\n",
    "features_1b = ['conscientiousness', 'agreeableness', 'extraversion', 'nueroticism', 'openess_to_experience']\n",
    "y_train1b = y_shuffle.copy()\n",
    "mae1b_results = []\n",
    "kf = KFold(n_splits=5)\n",
    "\n",
    "for feature_idx, feature in enumerate(features_1b):\n",
    "    mae_feature_results = []\n",
    "    X_train1b = X_shuffle[feature]\n",
    "    for train_idx, test_idx in kf.split(X_train1b):\n",
    "        model1b = LinearRegression()\n",
    "        model1b.fit(X_train1b.iloc[train_idx].values.reshape(-1, 1), y_train1b.iloc[train_idx])\n",
    "        y_pred = model1b.predict(X_train1b.iloc[test_idx].values.reshape(-1, 1))\n",
    "\n",
    "        mae = np.mean(np.abs(y_pred - y_train1b.iloc[test_idx]))\n",
    "        mae_feature_results.append(mae)\n",
    "\n",
    "    mean_mae = np.mean(mae_feature_results)\n",
    "    mae1b_results.append((feature, mean_mae))\n",
    "\n",
    "# Tìm ra đặc trưng tốt nhất\n",
    "best_feature_1b, best_mean_mae_1b = min(mae1b_results, key=lambda x: x[1])\n",
    "print(\"\\nBest feature:\", best_feature_1b)\n",
    "print(\"Mean MAE for best feature:\", best_mean_mae_1b)\n",
    "# In ra các kết quả cross-validation như yêu cầu\n",
    "print(\"Results:\")\n",
    "print(\"| STT | Mô hình với 1 đặc trưng | MAE  |\")\n",
    "print(\"|:---:|:-----------------------:|:----:|\")\n",
    "for idx, (feature, mean_mae) in enumerate(mae1b_results):\n",
    "    print(f\"|  {idx+1}  | {feature:24} | {mean_mae:.3f}  |\")"
   ]
  },
  {
   "cell_type": "code",
   "execution_count": 3004,
   "metadata": {},
   "outputs": [
    {
     "name": "stdout",
     "output_type": "stream",
     "text": [
      "['-16021.494'] 304647.553\n"
     ]
    }
   ],
   "source": [
    "X_train1b_best_feature = X_train.iloc[:, X_train.columns.get_loc(best_feature_1b):X_train.columns.get_loc(best_feature_1b)+1]\n",
    "# Huấn luyện lại mô hình best_personality_feature_model với đặc trưng tốt nhất trên toàn bộ tập huấn luyện\n",
    "model1b = LinearRegression()\n",
    "model1b.fit(X_train1b_best_feature, y_train)\n",
    "\n",
    "X_test1b = X_test.iloc[:, X_test.columns.get_loc(best_feature_1b):X_train.columns.get_loc(best_feature_1b)+1]\n",
    "y_predict1b = model1b.predict(X_test1b)\n",
    "print([f'{coef:.3f}' for coef in model1b.coef_], f'{model1b.intercept_:.3f}')"
   ]
  },
  {
   "cell_type": "code",
   "execution_count": 3005,
   "metadata": {},
   "outputs": [
    {
     "name": "stdout",
     "output_type": "stream",
     "text": [
      "119361.917\n"
     ]
    }
   ],
   "source": [
    "# Gọi hàm MAE (tự cài đặt hoặc từ thư viện) trên tập kiểm tra với mô hình best_personality_feature_model\n",
    "mae_1b = mean_absolute_error(y_test, y_predict1b)\n",
    "print(f'{mae_1b:.3f}')"
   ]
  },
  {
   "cell_type": "markdown",
   "metadata": {},
   "source": [
    "Công thức hồi quy (phần trọng số làm tròn đến 3 chữ số thập phân, ví dụ 0.012345 $\\to$ 0.012)\n",
    "\n",
    "$$\\text{Salary} = -16021.494*neuroticism+ 304647.553$$"
   ]
  },
  {
   "cell_type": "markdown",
   "metadata": {},
   "source": [
    "# Yêu cầu 1c: Xây dựng mô hình sử dụng duy nhất 1 đặc trưng `English`, `Logical`, `Quant`, tìm mô hình cho kết quả tốt nhất (1 điểm)"
   ]
  },
  {
   "cell_type": "markdown",
   "metadata": {},
   "source": [
    "Lưu ý: khi sử dụng cross-validation, sinh viên cần xáo trộn dữ liệu 1 lần duy nhất và thực hiện trên toàn bộ đặc trưng"
   ]
  },
  {
   "cell_type": "code",
   "execution_count": 3006,
   "metadata": {},
   "outputs": [
    {
     "name": "stdout",
     "output_type": "stream",
     "text": [
      "\n",
      "Best feature: Quant\n",
      "Mean MAE for best feature: 117362.23217328615\n",
      "Results:\n",
      "| STT | Mô hình với 1 đặc trưng | MAE  |\n",
      "|:---:|:-----------------------:|:----:|\n",
      "|  1  | English                  | 120728.913  |\n",
      "|  2  | Logical                  | 119974.264  |\n",
      "|  3  | Quant                    | 117362.232  |\n"
     ]
    }
   ],
   "source": [
    "# Phần code cho yêu cầu 1c\n",
    "random_indices = np.arange(len(X_train))\n",
    "np.random.shuffle(random_indices)\n",
    "\n",
    "X_shuffle = X_train.iloc[random_indices]\n",
    "y_shuffle = y_train.iloc[random_indices]\n",
    "\n",
    "features_1c = ['English', 'Logical', 'Quant']\n",
    "y_train1c = y_shuffle.copy()\n",
    "mae1c_results = []\n",
    "kf = KFold(n_splits=5)\n",
    "\n",
    "for feature_idx, feature in enumerate(features_1c):\n",
    "    mae_feature_results = []\n",
    "    X_train1c = X_shuffle[feature]\n",
    "    for train_idx, test_idx in kf.split(X_train1c):\n",
    "        model1c = LinearRegression()\n",
    "        model1c.fit(X_train1c.iloc[train_idx].values.reshape(-1, 1), y_train1c.iloc[train_idx])\n",
    "        y_pred = model1c.predict(X_train1c.iloc[test_idx].values.reshape(-1, 1))\n",
    "\n",
    "        mae = np.mean(np.abs(y_pred - y_train1c.iloc[test_idx]))\n",
    "        mae_feature_results.append(mae)\n",
    "\n",
    "    mean_mae = np.mean(mae_feature_results)\n",
    "    mae1c_results.append((feature, mean_mae))\n",
    "# Tìm ra đặc trưng tốt nhất\n",
    "best_feature_1c, best_mean_mae_1c = min(mae1c_results, key=lambda x: x[1])\n",
    "print(\"\\nBest feature:\", best_feature_1c)\n",
    "print(\"Mean MAE for best feature:\", best_mean_mae_1c)\n",
    "# In ra các kết quả cross-validation như yêu cầu\n",
    "print(\"Results:\")\n",
    "print(\"| STT | Mô hình với 1 đặc trưng | MAE  |\")\n",
    "print(\"|:---:|:-----------------------:|:----:|\")\n",
    "for idx, (feature, mean_mae) in enumerate(mae1c_results):\n",
    "    print(f\"|  {idx+1}  | {feature:24} | {mean_mae:.3f}  |\")"
   ]
  },
  {
   "cell_type": "code",
   "execution_count": 3007,
   "metadata": {},
   "outputs": [
    {
     "name": "stdout",
     "output_type": "stream",
     "text": [
      "['368.852'] 117759.729\n"
     ]
    }
   ],
   "source": [
    "# Huấn luyện lại mô hình best_skill_feature_model với đặc trưng tốt nhất trên toàn bộ tập huấn luyện\n",
    "X_train1c_best_feature = X_train.iloc[:, X_train.columns.get_loc(best_feature_1c):X_train.columns.get_loc(best_feature_1c)+1]\n",
    "# Huấn luyện lại mô hình best_personality_feature_model với đặc trưng tốt nhất trên toàn bộ tập huấn luyện\n",
    "model1c = LinearRegression()\n",
    "model1c.fit(X_train1c_best_feature, y_train)\n",
    "\n",
    "X_test1c = X_test.iloc[:, X_test.columns.get_loc(best_feature_1c):X_train.columns.get_loc(best_feature_1c)+1]\n",
    "y_predict1c = model1c.predict(X_test1c)\n",
    "print([f'{coef:.3f}' for coef in model1c.coef_], f'{model1c.intercept_:.3f}')"
   ]
  },
  {
   "cell_type": "code",
   "execution_count": 3008,
   "metadata": {},
   "outputs": [
    {
     "name": "stdout",
     "output_type": "stream",
     "text": [
      "108814.060\n"
     ]
    }
   ],
   "source": [
    "# Gọi hàm MAE (tự cài đặt hoặc từ thư viện) trên tập kiểm tra với mô hình best_skill_feature_model\n",
    "mae_1c = mean_absolute_error(y_test, y_predict1c)\n",
    "print(f'{mae_1c:.3f}')"
   ]
  },
  {
   "cell_type": "markdown",
   "metadata": {},
   "source": [
    "Công thức hồi quy (phần trọng số làm tròn đến 3 chữ số thập phân, ví dụ 0.012345 $\\to$ 0.012)\n",
    "\n",
    "$$\\text{Salary} = 368.852*Quant+ 117759.729$$"
   ]
  },
  {
   "cell_type": "markdown",
   "metadata": {},
   "source": [
    "# Yêu cầu 1d: Sinh viên tự xây dựng mô hình, tìm mô hình cho kết quả tốt nhất (3 điểm)"
   ]
  },
  {
   "cell_type": "markdown",
   "metadata": {},
   "source": [
    "Lưu ý: khi sử dụng cross-validation, sinh viên cần xáo trộn dữ liệu 1 lần duy nhất và thực hiện trên toàn bộ $m$ mô hình mà sinh viên thiết kế"
   ]
  },
  {
   "cell_type": "markdown",
   "metadata": {},
   "source": [
    "## Tìm mô hình"
   ]
  },
  {
   "cell_type": "code",
   "execution_count": 3009,
   "metadata": {},
   "outputs": [
    {
     "name": "stdout",
     "output_type": "stream",
     "text": [
      "Index(['Gender', '10percentage', '12percentage', 'CollegeTier', 'Degree',\n",
      "       'collegeGPA', 'CollegeCityTier', 'English', 'Logical', 'Quant',\n",
      "       'Domain', 'ComputerProgramming', 'ElectronicsAndSemicon',\n",
      "       'ComputerScience', 'MechanicalEngg', 'ElectricalEngg', 'TelecomEngg',\n",
      "       'CivilEngg', 'conscientiousness', 'agreeableness', 'extraversion',\n",
      "       'nueroticism', 'openess_to_experience', 'New1'],\n",
      "      dtype='object')\n"
     ]
    }
   ],
   "source": [
    "# Trình bày các phần tìm ra mô hình\n",
    "# Mô hình 1 là 2 đặc trưng 1b và 1c\n",
    "random_indices = np.arange(len(X_train))\n",
    "np.random.shuffle(random_indices)\n",
    "\n",
    "X_shuffle = X_train.iloc[random_indices]\n",
    "y_shuffle = y_train.iloc[random_indices]\n",
    "\n",
    "two_best_feature = [best_feature_1b, best_feature_1c]\n",
    "y_train1d_1 = y_shuffle.copy()\n",
    "X_train1d_1 = X_shuffle.loc[:, [best_feature_1b, best_feature_1c]]\n",
    "# Mô hình 2 toàn bộ đặc trưng\n",
    "y_train1d_2 = y_shuffle.copy()\n",
    "X_train1d_2 = X_shuffle\n",
    "#Mô hình 3 chọn 3 đặc trưng tốt nhất\n",
    "y_train1d_3 = y_shuffle.copy()\n",
    "mae1d_3_results = []\n",
    "\n",
    "for feature_idx, feature in enumerate(X_shuffle.columns):\n",
    "    mae_feature_results = []\n",
    "    X_train1d_3 = X_shuffle[feature]\n",
    "    for train_idx, test_idx in kf.split(X_train1c):\n",
    "        model1d_3 = LinearRegression()\n",
    "        model1d_3.fit(X_train1d_3.iloc[train_idx].values.reshape(-1, 1), y_train1d_3.iloc[train_idx])\n",
    "        y_pred = model1d_3.predict(X_train1d_3.iloc[test_idx].values.reshape(-1, 1))\n",
    "\n",
    "        mae = np.mean(np.abs(y_pred - y_train1d_3.iloc[test_idx]))\n",
    "        mae_feature_results.append(mae)\n",
    "\n",
    "    mean_mae = np.mean(mae_feature_results)\n",
    "    mae1d_3_results.append((feature, mean_mae))\n",
    "\n",
    "mae1d_3_results.sort(key=lambda x: x[1])\n",
    "\n",
    "three_best_features = [feature for feature, _ in mae1d_3_results[:3]]\n",
    "X_train1d_3 = X_shuffle.copy()\n",
    "X_train1d_3['New1'] = X_shuffle[three_best_features].sum(axis=1)\n",
    "\n",
    "\n",
    "print(X_train1d_3.columns)"
   ]
  },
  {
   "cell_type": "markdown",
   "metadata": {},
   "source": [
    "## Thử nghiệm, so sánh các mô hình"
   ]
  },
  {
   "cell_type": "code",
   "execution_count": 3010,
   "metadata": {},
   "outputs": [
    {
     "name": "stdout",
     "output_type": "stream",
     "text": [
      "Results:\n",
      "| STT | Mô hình với 1 đặc trưng | MAE  |\n",
      "|:---:|:-----------------------:|:----:|\n",
      "|  1  | Mô hình 2 features câu 1b và 1c | 117583.751  |\n",
      "|  2  | Mô hình tất cả features  | 111502.888  |\n",
      "|  3  | Mô hình thêm cột tổng 3 features tốt nhất | 111446.987  |\n"
     ]
    }
   ],
   "source": [
    "# Phần code cho yêu cầu 1d\n",
    "#1\n",
    "mae1d_results = []\n",
    "mae1d_1_results = []\n",
    "two_best_features = [best_feature_1b, best_feature_1c]\n",
    "for train_idx, test_idx in kf.split(X_train1d_1):\n",
    "    model1d = LinearRegression()\n",
    "    model1d.fit(X_train1d_1.iloc[train_idx][two_best_features], y_train1d_1.iloc[train_idx])\n",
    "    y_pred = model1d.predict(X_train1d_1.iloc[test_idx][two_best_features])\n",
    "    mae = np.mean(np.abs(y_pred - y_train1d_1.iloc[test_idx]))\n",
    "    mae1d_1_results.append(mae)\n",
    "\n",
    "mean_mae_1d_1 = np.mean(mae1d_1_results)\n",
    "mae1d_results.append((\"Mô hình 2 features câu 1b và 1c\", mean_mae_1d_1))\n",
    "#2\n",
    "mae1d_2_results = []\n",
    "for train_idx, test_idx in kf.split(X_train1d_2):\n",
    "    model1d = LinearRegression()\n",
    "    model1d.fit(X_train1d_2.iloc[train_idx], y_train1d_2.iloc[train_idx])\n",
    "    y_pred = model1d.predict(X_train1d_2.iloc[test_idx])\n",
    "    mae = np.mean(np.abs(y_pred - y_train1d_2.iloc[test_idx]))\n",
    "    mae1d_2_results.append(mae)\n",
    "\n",
    "mean_mae_1d_2 = np.mean(mae1d_2_results)\n",
    "mae1d_results.append((\"Mô hình tất cả features\", mean_mae_1d_2))\n",
    "#3\n",
    "mae1d_3_results = []\n",
    "for train_idx, test_idx in kf.split(X_train1d_3):\n",
    "    model1d = LinearRegression()\n",
    "    model1d.fit(X_train1d_3.iloc[train_idx], y_train1d_3.iloc[train_idx])\n",
    "    y_pred = model1d.predict(X_train1d_3.iloc[test_idx])\n",
    "    mae = np.mean(np.abs(y_pred - y_train1d_3.iloc[test_idx]))\n",
    "    mae1d_3_results.append(mae)\n",
    "\n",
    "mean_mae_1d_3 = np.mean(mae1d_3_results)\n",
    "mae1d_results.append((\"Mô hình thêm cột tổng 3 features tốt nhất\", mean_mae_1d_3))\n",
    "# Tìm ra mô hình tốt nhất (tự thiết kế bởi sinh viên)\n",
    "# In ra các kết quả cross-validation như yêu cầu\n",
    "print(\"Results:\")\n",
    "print(\"| STT | Mô hình với 1 đặc trưng | MAE  |\")\n",
    "print(\"|:---:|:-----------------------:|:----:|\")\n",
    "for idx, (feature, mean_mae) in enumerate(mae1d_results[:3]):\n",
    "    print(f\"|  {idx+1}  | {feature:24} | {mean_mae:.3f}  |\")"
   ]
  },
  {
   "cell_type": "code",
   "execution_count": 3011,
   "metadata": {},
   "outputs": [
    {
     "name": "stdout",
     "output_type": "stream",
     "text": [
      "['-24977.361', '-2053352396667994.500', '1141.588', '-98567.879', '2147.135', '1352.732', '-6100.622', '140.781', '-2053352396668574.500', '-2053352396668583.500', '28938.320', '76.616', '-50.941', '-180.485', '29.466', '-150.193', '-65.128', '140.289', '-19574.693', '16291.729', '4174.842', '-11231.318', '-5875.195', '2053352396668679.750'] 98510.573\n"
     ]
    }
   ],
   "source": [
    "# Huấn luyện lại mô hình my_best_model trên toàn bộ tập huấn luyện\n",
    "X_train1d_best = X_train.copy()\n",
    "X_train1d_best[\"New1\"] = X_train[three_best_features].sum(axis=1)\n",
    "model1d = LinearRegression()\n",
    "model1d.fit(X_train1d_best, y_train)\n",
    "X_test1d = X_test.copy()\n",
    "X_test1d[\"New1\"] = X_test[three_best_features].sum(axis=1)\n",
    "y_predict1d = model1d.predict(X_test1d)\n",
    "print([f'{coef:.3f}' for coef in model1d.coef_], f'{model1d.intercept_:.3f}')"
   ]
  },
  {
   "cell_type": "code",
   "execution_count": 3012,
   "metadata": {},
   "outputs": [
    {
     "name": "stdout",
     "output_type": "stream",
     "text": [
      "102414.458\n"
     ]
    }
   ],
   "source": [
    "# Gọi hàm MAE (tự cài đặt hoặc từ thư viện) trên tập kiểm tra với mô hình my_best_model\n",
    "mae_1d = mean_absolute_error(y_test, y_predict1d)\n",
    "print(f'{mae_1d:.3f}')"
   ]
  },
  {
   "cell_type": "markdown",
   "metadata": {},
   "source": [
    "Công thức hồi quy (phần trọng số làm tròn đến 3 chữ số thập phân, ví dụ 0.012345 $\\to$ 0.012)\n",
    "\n",
    "$$\\text{Salary} = ...$$"
   ]
  }
 ],
 "metadata": {
  "kernelspec": {
   "display_name": "Python 3.8.5 ('base')",
   "language": "python",
   "name": "python3"
  },
  "language_info": {
   "codemirror_mode": {
    "name": "ipython",
    "version": 3
   },
   "file_extension": ".py",
   "mimetype": "text/x-python",
   "name": "python",
   "nbconvert_exporter": "python",
   "pygments_lexer": "ipython3",
   "version": "3.11.4"
  },
  "orig_nbformat": 4,
  "vscode": {
   "interpreter": {
    "hash": "15af99fd1a1a3f0a3416ea421564e792a8676a13670c2eed127d89ab0518a27b"
   }
  }
 },
 "nbformat": 4,
 "nbformat_minor": 2
}
